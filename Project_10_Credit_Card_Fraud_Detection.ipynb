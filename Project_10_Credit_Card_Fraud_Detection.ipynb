{
  "cells": [
    {
      "cell_type": "markdown",
      "metadata": {
        "id": "TDnoEQTWStTz"
      },
      "source": [
        "Importing the Dependencies"
      ]
    },
    {
      "cell_type": "code",
      "execution_count": 2,
      "metadata": {
        "id": "hlNfrSC1PGfZ"
      },
      "outputs": [],
      "source": [
        "import numpy as np\n",
        "import pandas as pd\n",
        "from sklearn.model_selection import train_test_split\n",
        "from sklearn.linear_model import LogisticRegression\n",
        "from sklearn.metrics import accuracy_score\n",
        "import matplotlib.pyplot as plt\n"
      ]
    },
    {
      "cell_type": "code",
      "execution_count": 3,
      "metadata": {
        "id": "W0CTsNioTKnJ"
      },
      "outputs": [],
      "source": [
        "# loading the dataset to a Pandas DataFrame\n",
        "credit_card_data = pd.read_csv(\"C:/Users/maham/Downloads/Bank_final/creditcard.csv\")"
      ]
    },
    {
      "cell_type": "code",
      "execution_count": null,
      "metadata": {},
      "outputs": [],
      "source": []
    },
    {
      "cell_type": "code",
      "execution_count": 4,
      "metadata": {},
      "outputs": [],
      "source": [
        "class_counts = credit_card_data['Class'].value_counts()\n",
        "total_height = class_counts.sum()\n",
        "height_1 = total_height * 0.75\n",
        "height_2= total_height * 0.25\n"
      ]
    },
    {
      "cell_type": "code",
      "execution_count": 5,
      "metadata": {},
      "outputs": [
        {
          "data": {
            "image/png": "[encoded data removed]",
            "text/plain": [
              "<Figure size 600x400 with 1 Axes>"
            ]
          },
          "metadata": {},
          "output_type": "display_data"
        }
      ],
      "source": [
        "plt.figure(figsize=(6, 4))\n",
        "plt.bar(class_counts.index, [height_1, height_2], color=['blue', 'orange'])\n",
        "plt.title('Class Distribution')\n",
        "plt.xlabel('Class')\n",
        "plt.ylabel('Count')\n",
        "plt.xticks(class_counts.index, ['75%', '25%'], rotation=0)  # Set x-axis ticks to the desired ratio labels\n",
        "plt.show()"
      ]
    },
    {
      "cell_type": "code",
      "execution_count": 6,
      "metadata": {
        "colab": {
          "base_uri": "https://localhost:8080/",
          "height": 218
        },
        "id": "o_iMfyHsTa6s",
        "outputId": "318bdb4d-9f20-4789-c6e6-9b2de1aad091"
      },
      "outputs": [
        {
          "data": {
            "text/html": [
              "<div>\n",
              "<style scoped>\n",
              "    .dataframe tbody tr th:only-of-type {\n",
              "        vertical-align: middle;\n",
              "    }\n",
              "\n",
              "    .dataframe tbody tr th {\n",
              "        vertical-align: top;\n",
              "    }\n",
              "\n",
              "    .dataframe thead th {\n",
              "        text-align: right;\n",
              "    }\n",
              "</style>\n",
              "<table border=\"1\" class=\"dataframe\">\n",
              "  <thead>\n",
              "    <tr style=\"text-align: right;\">\n",
              "      <th></th>\n",
              "      <th>Time</th>\n",
              "      <th>V1</th>\n",
              "      <th>V2</th>\n",
              "      <th>V3</th>\n",
              "      <th>V4</th>\n",
              "      <th>V5</th>\n",
              "      <th>V6</th>\n",
              "      <th>V7</th>\n",
              "      <th>V8</th>\n",
              "      <th>V9</th>\n",
              "      <th>...</th>\n",
              "      <th>V21</th>\n",
              "      <th>V22</th>\n",
              "      <th>V23</th>\n",
              "      <th>V24</th>\n",
              "      <th>V25</th>\n",
              "      <th>V26</th>\n",
              "      <th>V27</th>\n",
              "      <th>V28</th>\n",
              "      <th>Amount</th>\n",
              "      <th>Class</th>\n",
              "    </tr>\n",
              "  </thead>\n",
              "  <tbody>\n",
              "    <tr>\n",
              "      <th>0</th>\n",
              "      <td>0</td>\n",
              "      <td>-1.359807</td>\n",
              "      <td>-0.072781</td>\n",
              "      <td>2.536347</td>\n",
              "      <td>1.378155</td>\n",
              "      <td>-0.338321</td>\n",
              "      <td>0.462388</td>\n",
              "      <td>0.239599</td>\n",
              "      <td>0.098698</td>\n",
              "      <td>0.363787</td>\n",
              "      <td>...</td>\n",
              "      <td>-0.018307</td>\n",
              "      <td>0.277838</td>\n",
              "      <td>-0.110474</td>\n",
              "      <td>0.066928</td>\n",
              "      <td>0.128539</td>\n",
              "      <td>-0.189115</td>\n",
              "      <td>0.133558</td>\n",
              "      <td>-0.021053</td>\n",
              "      <td>149.62</td>\n",
              "      <td>0</td>\n",
              "    </tr>\n",
              "    <tr>\n",
              "      <th>1</th>\n",
              "      <td>0</td>\n",
              "      <td>1.191857</td>\n",
              "      <td>0.266151</td>\n",
              "      <td>0.166480</td>\n",
              "      <td>0.448154</td>\n",
              "      <td>0.060018</td>\n",
              "      <td>-0.082361</td>\n",
              "      <td>-0.078803</td>\n",
              "      <td>0.085102</td>\n",
              "      <td>-0.255425</td>\n",
              "      <td>...</td>\n",
              "      <td>-0.225775</td>\n",
              "      <td>-0.638672</td>\n",
              "      <td>0.101288</td>\n",
              "      <td>-0.339846</td>\n",
              "      <td>0.167170</td>\n",
              "      <td>0.125895</td>\n",
              "      <td>-0.008983</td>\n",
              "      <td>0.014724</td>\n",
              "      <td>2.69</td>\n",
              "      <td>0</td>\n",
              "    </tr>\n",
              "    <tr>\n",
              "      <th>2</th>\n",
              "      <td>1</td>\n",
              "      <td>-1.358354</td>\n",
              "      <td>-1.340163</td>\n",
              "      <td>1.773209</td>\n",
              "      <td>0.379780</td>\n",
              "      <td>-0.503198</td>\n",
              "      <td>1.800499</td>\n",
              "      <td>0.791461</td>\n",
              "      <td>0.247676</td>\n",
              "      <td>-1.514654</td>\n",
              "      <td>...</td>\n",
              "      <td>0.247998</td>\n",
              "      <td>0.771679</td>\n",
              "      <td>0.909412</td>\n",
              "      <td>-0.689281</td>\n",
              "      <td>-0.327642</td>\n",
              "      <td>-0.139097</td>\n",
              "      <td>-0.055353</td>\n",
              "      <td>-0.059752</td>\n",
              "      <td>378.66</td>\n",
              "      <td>0</td>\n",
              "    </tr>\n",
              "    <tr>\n",
              "      <th>3</th>\n",
              "      <td>1</td>\n",
              "      <td>-0.966272</td>\n",
              "      <td>-0.185226</td>\n",
              "      <td>1.792993</td>\n",
              "      <td>-0.863291</td>\n",
              "      <td>-0.010309</td>\n",
              "      <td>1.247203</td>\n",
              "      <td>0.237609</td>\n",
              "      <td>0.377436</td>\n",
              "      <td>-1.387024</td>\n",
              "      <td>...</td>\n",
              "      <td>-0.108300</td>\n",
              "      <td>0.005274</td>\n",
              "      <td>-0.190321</td>\n",
              "      <td>-1.175575</td>\n",
              "      <td>0.647376</td>\n",
              "      <td>-0.221929</td>\n",
              "      <td>0.062723</td>\n",
              "      <td>0.061458</td>\n",
              "      <td>123.50</td>\n",
              "      <td>0</td>\n",
              "    </tr>\n",
              "    <tr>\n",
              "      <th>4</th>\n",
              "      <td>2</td>\n",
              "      <td>-1.158233</td>\n",
              "      <td>0.877737</td>\n",
              "      <td>1.548718</td>\n",
              "      <td>0.403034</td>\n",
              "      <td>-0.407193</td>\n",
              "      <td>0.095921</td>\n",
              "      <td>0.592941</td>\n",
              "      <td>-0.270533</td>\n",
              "      <td>0.817739</td>\n",
              "      <td>...</td>\n",
              "      <td>-0.009431</td>\n",
              "      <td>0.798278</td>\n",
              "      <td>-0.137458</td>\n",
              "      <td>0.141267</td>\n",
              "      <td>-0.206010</td>\n",
              "      <td>0.502292</td>\n",
              "      <td>0.219422</td>\n",
              "      <td>0.215153</td>\n",
              "      <td>69.99</td>\n",
              "      <td>0</td>\n",
              "    </tr>\n",
              "  </tbody>\n",
              "</table>\n",
              "<p>5 rows × 31 columns</p>\n",
              "</div>"
            ],
            "text/plain": [
              "   Time        V1        V2        V3        V4        V5        V6        V7  \\\n",
              "0     0 -1.359807 -0.072781  2.536347  1.378155 -0.338321  0.462388  0.239599   \n",
              "1     0  1.191857  0.266151  0.166480  0.448154  0.060018 -0.082361 -0.078803   \n",
              "2     1 -1.358354 -1.340163  1.773209  0.379780 -0.503198  1.800499  0.791461   \n",
              "3     1 -0.966272 -0.185226  1.792993 -0.863291 -0.010309  1.247203  0.237609   \n",
              "4     2 -1.158233  0.877737  1.548718  0.403034 -0.407193  0.095921  0.592941   \n",
              "\n",
              "         V8        V9  ...       V21       V22       V23       V24       V25  \\\n",
              "0  0.098698  0.363787  ... -0.018307  0.277838 -0.110474  0.066928  0.128539   \n",
              "1  0.085102 -0.255425  ... -0.225775 -0.638672  0.101288 -0.339846  0.167170   \n",
              "2  0.247676 -1.514654  ...  0.247998  0.771679  0.909412 -0.689281 -0.327642   \n",
              "3  0.377436 -1.387024  ... -0.108300  0.005274 -0.190321 -1.175575  0.647376   \n",
              "4 -0.270533  0.817739  ... -0.009431  0.798278 -0.137458  0.141267 -0.206010   \n",
              "\n",
              "        V26       V27       V28  Amount  Class  \n",
              "0 -0.189115  0.133558 -0.021053  149.62      0  \n",
              "1  0.125895 -0.008983  0.014724    2.69      0  \n",
              "2 -0.139097 -0.055353 -0.059752  378.66      0  \n",
              "3 -0.221929  0.062723  0.061458  123.50      0  \n",
              "4  0.502292  0.219422  0.215153   69.99      0  \n",
              "\n",
              "[5 rows x 31 columns]"
            ]
          },
          "execution_count": 6,
          "metadata": {},
          "output_type": "execute_result"
        }
      ],
      "source": [
        "# first 5 rows of the dataset\n",
        "credit_card_data.head()"
      ]
    },
    {
      "cell_type": "code",
      "execution_count": 7,
      "metadata": {
        "colab": {
          "base_uri": "https://localhost:8080/",
          "height": 218
        },
        "id": "iWCP6YJjThIM",
        "outputId": "19097c05-c0ff-4df7-c21b-84c7cde9e7da"
      },
      "outputs": [
        {
          "data": {
            "text/html": [
              "<div>\n",
              "<style scoped>\n",
              "    .dataframe tbody tr th:only-of-type {\n",
              "        vertical-align: middle;\n",
              "    }\n",
              "\n",
              "    .dataframe tbody tr th {\n",
              "        vertical-align: top;\n",
              "    }\n",
              "\n",
              "    .dataframe thead th {\n",
              "        text-align: right;\n",
              "    }\n",
              "</style>\n",
              "<table border=\"1\" class=\"dataframe\">\n",
              "  <thead>\n",
              "    <tr style=\"text-align: right;\">\n",
              "      <th></th>\n",
              "      <th>Time</th>\n",
              "      <th>V1</th>\n",
              "      <th>V2</th>\n",
              "      <th>V3</th>\n",
              "      <th>V4</th>\n",
              "      <th>V5</th>\n",
              "      <th>V6</th>\n",
              "      <th>V7</th>\n",
              "      <th>V8</th>\n",
              "      <th>V9</th>\n",
              "      <th>...</th>\n",
              "      <th>V21</th>\n",
              "      <th>V22</th>\n",
              "      <th>V23</th>\n",
              "      <th>V24</th>\n",
              "      <th>V25</th>\n",
              "      <th>V26</th>\n",
              "      <th>V27</th>\n",
              "      <th>V28</th>\n",
              "      <th>Amount</th>\n",
              "      <th>Class</th>\n",
              "    </tr>\n",
              "  </thead>\n",
              "  <tbody>\n",
              "    <tr>\n",
              "      <th>122026</th>\n",
              "      <td>76408</td>\n",
              "      <td>1.153168</td>\n",
              "      <td>0.479407</td>\n",
              "      <td>0.314896</td>\n",
              "      <td>1.243811</td>\n",
              "      <td>-0.007747</td>\n",
              "      <td>-0.760372</td>\n",
              "      <td>0.443770</td>\n",
              "      <td>-0.200864</td>\n",
              "      <td>-0.408447</td>\n",
              "      <td>...</td>\n",
              "      <td>-0.323482</td>\n",
              "      <td>-0.924932</td>\n",
              "      <td>0.195446</td>\n",
              "      <td>0.367543</td>\n",
              "      <td>0.303080</td>\n",
              "      <td>-0.720368</td>\n",
              "      <td>0.021666</td>\n",
              "      <td>0.028146</td>\n",
              "      <td>18.40</td>\n",
              "      <td>0</td>\n",
              "    </tr>\n",
              "    <tr>\n",
              "      <th>122027</th>\n",
              "      <td>76408</td>\n",
              "      <td>1.182257</td>\n",
              "      <td>-0.612610</td>\n",
              "      <td>1.370148</td>\n",
              "      <td>0.471155</td>\n",
              "      <td>-1.102223</td>\n",
              "      <td>0.760349</td>\n",
              "      <td>-1.060528</td>\n",
              "      <td>0.246510</td>\n",
              "      <td>1.752594</td>\n",
              "      <td>...</td>\n",
              "      <td>-0.148466</td>\n",
              "      <td>0.108189</td>\n",
              "      <td>-0.168645</td>\n",
              "      <td>-0.299281</td>\n",
              "      <td>0.418151</td>\n",
              "      <td>1.175795</td>\n",
              "      <td>0.011463</td>\n",
              "      <td>0.014747</td>\n",
              "      <td>23.53</td>\n",
              "      <td>0</td>\n",
              "    </tr>\n",
              "    <tr>\n",
              "      <th>122028</th>\n",
              "      <td>76409</td>\n",
              "      <td>1.114535</td>\n",
              "      <td>-0.169285</td>\n",
              "      <td>0.819799</td>\n",
              "      <td>-0.002236</td>\n",
              "      <td>-0.701896</td>\n",
              "      <td>-0.234576</td>\n",
              "      <td>-0.401155</td>\n",
              "      <td>0.121827</td>\n",
              "      <td>0.049431</td>\n",
              "      <td>...</td>\n",
              "      <td>-0.082207</td>\n",
              "      <td>-0.289343</td>\n",
              "      <td>0.171241</td>\n",
              "      <td>0.267527</td>\n",
              "      <td>-0.117185</td>\n",
              "      <td>0.784617</td>\n",
              "      <td>-0.051578</td>\n",
              "      <td>0.008306</td>\n",
              "      <td>29.63</td>\n",
              "      <td>0</td>\n",
              "    </tr>\n",
              "    <tr>\n",
              "      <th>122029</th>\n",
              "      <td>76409</td>\n",
              "      <td>1.215483</td>\n",
              "      <td>0.081298</td>\n",
              "      <td>0.450790</td>\n",
              "      <td>0.587680</td>\n",
              "      <td>-0.442346</td>\n",
              "      <td>-0.562772</td>\n",
              "      <td>-0.128022</td>\n",
              "      <td>0.027022</td>\n",
              "      <td>0.292149</td>\n",
              "      <td>...</td>\n",
              "      <td>-0.248689</td>\n",
              "      <td>-0.765653</td>\n",
              "      <td>0.185846</td>\n",
              "      <td>0.023478</td>\n",
              "      <td>0.088353</td>\n",
              "      <td>0.129768</td>\n",
              "      <td>-0.023441</td>\n",
              "      <td>0.012091</td>\n",
              "      <td>1.98</td>\n",
              "      <td>0</td>\n",
              "    </tr>\n",
              "    <tr>\n",
              "      <th>122030</th>\n",
              "      <td>76409</td>\n",
              "      <td>1.100759</td>\n",
              "      <td>-0.885389</td>\n",
              "      <td>1.693873</td>\n",
              "      <td>0.519650</td>\n",
              "      <td>-1.417428</td>\n",
              "      <td>1.418838</td>\n",
              "      <td>-1.658357</td>\n",
              "      <td>0.647540</td>\n",
              "      <td>-0.007987</td>\n",
              "      <td>...</td>\n",
              "      <td>-0.080713</td>\n",
              "      <td>0.542830</td>\n",
              "      <td>0.018620</td>\n",
              "      <td>-0.302385</td>\n",
              "      <td>0.174412</td>\n",
              "      <td>-0.145532</td>\n",
              "      <td>0.152438</td>\n",
              "      <td>0.030300</td>\n",
              "      <td>10.99</td>\n",
              "      <td>0</td>\n",
              "    </tr>\n",
              "  </tbody>\n",
              "</table>\n",
              "<p>5 rows × 31 columns</p>\n",
              "</div>"
            ],
            "text/plain": [
              "         Time        V1        V2        V3        V4        V5        V6  \\\n",
              "122026  76408  1.153168  0.479407  0.314896  1.243811 -0.007747 -0.760372   \n",
              "122027  76408  1.182257 -0.612610  1.370148  0.471155 -1.102223  0.760349   \n",
              "122028  76409  1.114535 -0.169285  0.819799 -0.002236 -0.701896 -0.234576   \n",
              "122029  76409  1.215483  0.081298  0.450790  0.587680 -0.442346 -0.562772   \n",
              "122030  76409  1.100759 -0.885389  1.693873  0.519650 -1.417428  1.418838   \n",
              "\n",
              "              V7        V8        V9  ...       V21       V22       V23  \\\n",
              "122026  0.443770 -0.200864 -0.408447  ... -0.323482 -0.924932  0.195446   \n",
              "122027 -1.060528  0.246510  1.752594  ... -0.148466  0.108189 -0.168645   \n",
              "122028 -0.401155  0.121827  0.049431  ... -0.082207 -0.289343  0.171241   \n",
              "122029 -0.128022  0.027022  0.292149  ... -0.248689 -0.765653  0.185846   \n",
              "122030 -1.658357  0.647540 -0.007987  ... -0.080713  0.542830  0.018620   \n",
              "\n",
              "             V24       V25       V26       V27       V28  Amount  Class  \n",
              "122026  0.367543  0.303080 -0.720368  0.021666  0.028146   18.40      0  \n",
              "122027 -0.299281  0.418151  1.175795  0.011463  0.014747   23.53      0  \n",
              "122028  0.267527 -0.117185  0.784617 -0.051578  0.008306   29.63      0  \n",
              "122029  0.023478  0.088353  0.129768 -0.023441  0.012091    1.98      0  \n",
              "122030 -0.302385  0.174412 -0.145532  0.152438  0.030300   10.99      0  \n",
              "\n",
              "[5 rows x 31 columns]"
            ]
          },
          "execution_count": 7,
          "metadata": {},
          "output_type": "execute_result"
        }
      ],
      "source": [
        "credit_card_data.tail()"
      ]
    },
    {
      "cell_type": "code",
      "execution_count": 8,
      "metadata": {
        "colab": {
          "base_uri": "https://localhost:8080/"
        },
        "id": "KcCZquvEUD3A",
        "outputId": "a18d75ef-936b-4a52-8589-0acb2cc5fe4e"
      },
      "outputs": [
        {
          "name": "stdout",
          "output_type": "stream",
          "text": [
            "<class 'pandas.core.frame.DataFrame'>\n",
            "RangeIndex: 122031 entries, 0 to 122030\n",
            "Data columns (total 31 columns):\n",
            " #   Column  Non-Null Count   Dtype  \n",
            "---  ------  --------------   -----  \n",
            " 0   Time    122031 non-null  int64  \n",
            " 1   V1      122031 non-null  float64\n",
            " 2   V2      122031 non-null  float64\n",
            " 3   V3      122031 non-null  float64\n",
            " 4   V4      122031 non-null  float64\n",
            " 5   V5      122031 non-null  float64\n",
            " 6   V6      122031 non-null  float64\n",
            " 7   V7      122031 non-null  float64\n",
            " 8   V8      122031 non-null  float64\n",
            " 9   V9      122031 non-null  float64\n",
            " 10  V10     122031 non-null  float64\n",
            " 11  V11     122031 non-null  float64\n",
            " 12  V12     122031 non-null  float64\n",
            " 13  V13     122031 non-null  float64\n",
            " 14  V14     122031 non-null  float64\n",
            " 15  V15     122031 non-null  float64\n",
            " 16  V16     122031 non-null  float64\n",
            " 17  V17     122031 non-null  float64\n",
            " 18  V18     122031 non-null  float64\n",
            " 19  V19     122031 non-null  float64\n",
            " 20  V20     122031 non-null  float64\n",
            " 21  V21     122031 non-null  float64\n",
            " 22  V22     122031 non-null  float64\n",
            " 23  V23     122031 non-null  float64\n",
            " 24  V24     122031 non-null  float64\n",
            " 25  V25     122031 non-null  float64\n",
            " 26  V26     122031 non-null  float64\n",
            " 27  V27     122031 non-null  float64\n",
            " 28  V28     122031 non-null  float64\n",
            " 29  Amount  122031 non-null  float64\n",
            " 30  Class   122031 non-null  int64  \n",
            "dtypes: float64(29), int64(2)\n",
            "memory usage: 28.9 MB\n"
          ]
        }
      ],
      "source": [
        "# dataset informations\n",
        "credit_card_data.info()"
      ]
    },
    {
      "cell_type": "code",
      "execution_count": 9,
      "metadata": {
        "colab": {
          "base_uri": "https://localhost:8080/"
        },
        "id": "XxwasmfKUQiA",
        "outputId": "a1cf3e15-9491-40f9-fecb-e5d1895bc8ca"
      },
      "outputs": [
        {
          "data": {
            "text/plain": [
              "Time      0\n",
              "V1        0\n",
              "V2        0\n",
              "V3        0\n",
              "V4        0\n",
              "V5        0\n",
              "V6        0\n",
              "V7        0\n",
              "V8        0\n",
              "V9        0\n",
              "V10       0\n",
              "V11       0\n",
              "V12       0\n",
              "V13       0\n",
              "V14       0\n",
              "V15       0\n",
              "V16       0\n",
              "V17       0\n",
              "V18       0\n",
              "V19       0\n",
              "V20       0\n",
              "V21       0\n",
              "V22       0\n",
              "V23       0\n",
              "V24       0\n",
              "V25       0\n",
              "V26       0\n",
              "V27       0\n",
              "V28       0\n",
              "Amount    0\n",
              "Class     0\n",
              "dtype: int64"
            ]
          },
          "execution_count": 9,
          "metadata": {},
          "output_type": "execute_result"
        }
      ],
      "source": [
        "# checking the number of missing values in each column\n",
        "credit_card_data.isnull().sum()"
      ]
    },
    {
      "cell_type": "code",
      "execution_count": 10,
      "metadata": {
        "colab": {
          "base_uri": "https://localhost:8080/"
        },
        "id": "EIpoKfp5Ugri",
        "outputId": "5150aa81-723c-424d-dcee-80f5c1e37a0f"
      },
      "outputs": [
        {
          "data": {
            "text/plain": [
              "Class\n",
              "0    121782\n",
              "1       249\n",
              "Name: count, dtype: int64"
            ]
          },
          "execution_count": 10,
          "metadata": {},
          "output_type": "execute_result"
        }
      ],
      "source": [
        "# distribution of legit transactions & fraudulent transactions\n",
        "credit_card_data['Class'].value_counts()"
      ]
    },
    {
      "cell_type": "markdown",
      "metadata": {
        "id": "4OlMhkHzVKMv"
      },
      "source": [
        "0 --> Normal Transaction\n",
        "\n",
        "1 --> fraudulent transaction"
      ]
    },
    {
      "cell_type": "code",
      "execution_count": 11,
      "metadata": {
        "id": "QNn77bdbU2Lf"
      },
      "outputs": [],
      "source": [
        "# separating the data for analysis\n",
        "legit = credit_card_data[credit_card_data.Class == 0]\n",
        "fraud = credit_card_data[credit_card_data.Class == 1]"
      ]
    },
    {
      "cell_type": "code",
      "execution_count": 12,
      "metadata": {
        "colab": {
          "base_uri": "https://localhost:8080/"
        },
        "id": "zsrMgOdoVnrV",
        "outputId": "3ca353f2-4339-435e-9e5b-b4080bf7f608"
      },
      "outputs": [
        {
          "name": "stdout",
          "output_type": "stream",
          "text": [
            "(121782, 31)\n",
            "(249, 31)\n"
          ]
        }
      ],
      "source": [
        "print(legit.shape)\n",
        "print(fraud.shape)"
      ]
    },
    {
      "cell_type": "code",
      "execution_count": 13,
      "metadata": {
        "colab": {
          "base_uri": "https://localhost:8080/"
        },
        "id": "1s3KGshBVsTb",
        "outputId": "a5a35c33-3ca5-47d0-d060-dc53c2497f71"
      },
      "outputs": [
        {
          "data": {
            "text/plain": [
              "count    121782.000000\n",
              "mean         94.069239\n",
              "std         255.464160\n",
              "min           0.000000\n",
              "25%           6.850000\n",
              "50%          24.990000\n",
              "75%          84.590000\n",
              "max       19656.530000\n",
              "Name: Amount, dtype: float64"
            ]
          },
          "execution_count": 13,
          "metadata": {},
          "output_type": "execute_result"
        }
      ],
      "source": [
        "# statistical measures of the data\n",
        "legit.Amount.describe()"
      ]
    },
    {
      "cell_type": "code",
      "execution_count": 14,
      "metadata": {
        "colab": {
          "base_uri": "https://localhost:8080/"
        },
        "id": "KkU3Mzr5V7fR",
        "outputId": "30e87d03-1587-45e9-bc27-fd7bc3a5a150"
      },
      "outputs": [
        {
          "data": {
            "text/plain": [
              "count     249.000000\n",
              "mean      119.180482\n",
              "std       251.160611\n",
              "min         0.000000\n",
              "25%         1.000000\n",
              "50%        11.390000\n",
              "75%        99.990000\n",
              "max      1809.680000\n",
              "Name: Amount, dtype: float64"
            ]
          },
          "execution_count": 14,
          "metadata": {},
          "output_type": "execute_result"
        }
      ],
      "source": [
        "fraud.Amount.describe()"
      ]
    },
    {
      "cell_type": "code",
      "execution_count": 15,
      "metadata": {
        "colab": {
          "base_uri": "https://localhost:8080/",
          "height": 158
        },
        "id": "aFUMMHwYWMvp",
        "outputId": "02e34b2d-07d0-4e64-9e79-a59bc22d7ed8"
      },
      "outputs": [
        {
          "data": {
            "text/html": [
              "<div>\n",
              "<style scoped>\n",
              "    .dataframe tbody tr th:only-of-type {\n",
              "        vertical-align: middle;\n",
              "    }\n",
              "\n",
              "    .dataframe tbody tr th {\n",
              "        vertical-align: top;\n",
              "    }\n",
              "\n",
              "    .dataframe thead th {\n",
              "        text-align: right;\n",
              "    }\n",
              "</style>\n",
              "<table border=\"1\" class=\"dataframe\">\n",
              "  <thead>\n",
              "    <tr style=\"text-align: right;\">\n",
              "      <th></th>\n",
              "      <th>Time</th>\n",
              "      <th>V1</th>\n",
              "      <th>V2</th>\n",
              "      <th>V3</th>\n",
              "      <th>V4</th>\n",
              "      <th>V5</th>\n",
              "      <th>V6</th>\n",
              "      <th>V7</th>\n",
              "      <th>V8</th>\n",
              "      <th>V9</th>\n",
              "      <th>...</th>\n",
              "      <th>V20</th>\n",
              "      <th>V21</th>\n",
              "      <th>V22</th>\n",
              "      <th>V23</th>\n",
              "      <th>V24</th>\n",
              "      <th>V25</th>\n",
              "      <th>V26</th>\n",
              "      <th>V27</th>\n",
              "      <th>V28</th>\n",
              "      <th>Amount</th>\n",
              "    </tr>\n",
              "    <tr>\n",
              "      <th>Class</th>\n",
              "      <th></th>\n",
              "      <th></th>\n",
              "      <th></th>\n",
              "      <th></th>\n",
              "      <th></th>\n",
              "      <th></th>\n",
              "      <th></th>\n",
              "      <th></th>\n",
              "      <th></th>\n",
              "      <th></th>\n",
              "      <th></th>\n",
              "      <th></th>\n",
              "      <th></th>\n",
              "      <th></th>\n",
              "      <th></th>\n",
              "      <th></th>\n",
              "      <th></th>\n",
              "      <th></th>\n",
              "      <th></th>\n",
              "      <th></th>\n",
              "      <th></th>\n",
              "    </tr>\n",
              "  </thead>\n",
              "  <tbody>\n",
              "    <tr>\n",
              "      <th>0</th>\n",
              "      <td>47776.739945</td>\n",
              "      <td>-0.242329</td>\n",
              "      <td>-0.015134</td>\n",
              "      <td>0.694478</td>\n",
              "      <td>0.143815</td>\n",
              "      <td>-0.275218</td>\n",
              "      <td>0.091110</td>\n",
              "      <td>-0.101666</td>\n",
              "      <td>0.057927</td>\n",
              "      <td>-0.075457</td>\n",
              "      <td>...</td>\n",
              "      <td>0.042771</td>\n",
              "      <td>-0.038312</td>\n",
              "      <td>-0.113758</td>\n",
              "      <td>-0.035130</td>\n",
              "      <td>0.011846</td>\n",
              "      <td>0.130306</td>\n",
              "      <td>0.027618</td>\n",
              "      <td>-0.000335</td>\n",
              "      <td>0.001736</td>\n",
              "      <td>94.069239</td>\n",
              "    </tr>\n",
              "    <tr>\n",
              "      <th>1</th>\n",
              "      <td>40280.433735</td>\n",
              "      <td>-5.846600</td>\n",
              "      <td>4.076891</td>\n",
              "      <td>-7.453278</td>\n",
              "      <td>4.641314</td>\n",
              "      <td>-4.167167</td>\n",
              "      <td>-1.511639</td>\n",
              "      <td>-6.201243</td>\n",
              "      <td>1.559279</td>\n",
              "      <td>-2.696182</td>\n",
              "      <td>...</td>\n",
              "      <td>0.259111</td>\n",
              "      <td>1.324185</td>\n",
              "      <td>-0.314840</td>\n",
              "      <td>-0.103567</td>\n",
              "      <td>-0.108411</td>\n",
              "      <td>0.199329</td>\n",
              "      <td>0.074713</td>\n",
              "      <td>0.522683</td>\n",
              "      <td>0.076517</td>\n",
              "      <td>119.180482</td>\n",
              "    </tr>\n",
              "  </tbody>\n",
              "</table>\n",
              "<p>2 rows × 30 columns</p>\n",
              "</div>"
            ],
            "text/plain": [
              "               Time        V1        V2        V3        V4        V5  \\\n",
              "Class                                                                   \n",
              "0      47776.739945 -0.242329 -0.015134  0.694478  0.143815 -0.275218   \n",
              "1      40280.433735 -5.846600  4.076891 -7.453278  4.641314 -4.167167   \n",
              "\n",
              "             V6        V7        V8        V9  ...       V20       V21  \\\n",
              "Class                                          ...                       \n",
              "0      0.091110 -0.101666  0.057927 -0.075457  ...  0.042771 -0.038312   \n",
              "1     -1.511639 -6.201243  1.559279 -2.696182  ...  0.259111  1.324185   \n",
              "\n",
              "            V22       V23       V24       V25       V26       V27       V28  \\\n",
              "Class                                                                         \n",
              "0     -0.113758 -0.035130  0.011846  0.130306  0.027618 -0.000335  0.001736   \n",
              "1     -0.314840 -0.103567 -0.108411  0.199329  0.074713  0.522683  0.076517   \n",
              "\n",
              "           Amount  \n",
              "Class              \n",
              "0       94.069239  \n",
              "1      119.180482  \n",
              "\n",
              "[2 rows x 30 columns]"
            ]
          },
          "execution_count": 15,
          "metadata": {},
          "output_type": "execute_result"
        }
      ],
      "source": [
        "# compare the values for both transactions\n",
        "credit_card_data.groupby('Class').mean()"
      ]
    },
    {
      "cell_type": "markdown",
      "metadata": {
        "id": "ybHNYPpEW0N6"
      },
      "source": [
        "Under-Sampling"
      ]
    },
    {
      "cell_type": "markdown",
      "metadata": {
        "id": "MlXkIGEIW3KM"
      },
      "source": [
        "Build a sample dataset containing similar distribution of normal transactions and Fraudulent Transactions"
      ]
    },
    {
      "cell_type": "markdown",
      "metadata": {
        "id": "bCj3Dee7XB0F"
      },
      "source": [
        "Number of Fraudulent Transactions --> 492"
      ]
    },
    {
      "cell_type": "code",
      "execution_count": 16,
      "metadata": {
        "id": "QtWT13mKWjJ_"
      },
      "outputs": [],
      "source": [
        "legit_sample = legit.sample(n=492)"
      ]
    },
    {
      "cell_type": "markdown",
      "metadata": {
        "id": "SNiYI_SmXeim"
      },
      "source": [
        "Concatenating two DataFrames"
      ]
    },
    {
      "cell_type": "code",
      "execution_count": 17,
      "metadata": {
        "id": "0yiXrYiRXcnE"
      },
      "outputs": [],
      "source": [
        "new_dataset = pd.concat([legit_sample, fraud], axis=0)"
      ]
    },
    {
      "cell_type": "code",
      "execution_count": 18,
      "metadata": {
        "colab": {
          "base_uri": "https://localhost:8080/",
          "height": 218
        },
        "id": "UuLw43AXX0bq",
        "outputId": "01db7f18-69a0-4579-b5c8-e51ca4f61096"
      },
      "outputs": [
        {
          "data": {
            "text/html": [
              "<div>\n",
              "<style scoped>\n",
              "    .dataframe tbody tr th:only-of-type {\n",
              "        vertical-align: middle;\n",
              "    }\n",
              "\n",
              "    .dataframe tbody tr th {\n",
              "        vertical-align: top;\n",
              "    }\n",
              "\n",
              "    .dataframe thead th {\n",
              "        text-align: right;\n",
              "    }\n",
              "</style>\n",
              "<table border=\"1\" class=\"dataframe\">\n",
              "  <thead>\n",
              "    <tr style=\"text-align: right;\">\n",
              "      <th></th>\n",
              "      <th>Time</th>\n",
              "      <th>V1</th>\n",
              "      <th>V2</th>\n",
              "      <th>V3</th>\n",
              "      <th>V4</th>\n",
              "      <th>V5</th>\n",
              "      <th>V6</th>\n",
              "      <th>V7</th>\n",
              "      <th>V8</th>\n",
              "      <th>V9</th>\n",
              "      <th>...</th>\n",
              "      <th>V21</th>\n",
              "      <th>V22</th>\n",
              "      <th>V23</th>\n",
              "      <th>V24</th>\n",
              "      <th>V25</th>\n",
              "      <th>V26</th>\n",
              "      <th>V27</th>\n",
              "      <th>V28</th>\n",
              "      <th>Amount</th>\n",
              "      <th>Class</th>\n",
              "    </tr>\n",
              "  </thead>\n",
              "  <tbody>\n",
              "    <tr>\n",
              "      <th>42732</th>\n",
              "      <td>41222</td>\n",
              "      <td>-0.798318</td>\n",
              "      <td>0.274479</td>\n",
              "      <td>0.999705</td>\n",
              "      <td>0.745266</td>\n",
              "      <td>1.779616</td>\n",
              "      <td>-0.700819</td>\n",
              "      <td>1.579767</td>\n",
              "      <td>-1.006390</td>\n",
              "      <td>-0.351450</td>\n",
              "      <td>...</td>\n",
              "      <td>-0.134193</td>\n",
              "      <td>0.433417</td>\n",
              "      <td>0.077362</td>\n",
              "      <td>-0.430234</td>\n",
              "      <td>0.251328</td>\n",
              "      <td>-0.306781</td>\n",
              "      <td>-0.548793</td>\n",
              "      <td>-0.521128</td>\n",
              "      <td>1.59</td>\n",
              "      <td>0</td>\n",
              "    </tr>\n",
              "    <tr>\n",
              "      <th>108704</th>\n",
              "      <td>71031</td>\n",
              "      <td>1.182456</td>\n",
              "      <td>0.326228</td>\n",
              "      <td>0.294534</td>\n",
              "      <td>2.324283</td>\n",
              "      <td>0.522386</td>\n",
              "      <td>1.074643</td>\n",
              "      <td>-0.102082</td>\n",
              "      <td>0.207097</td>\n",
              "      <td>-0.221375</td>\n",
              "      <td>...</td>\n",
              "      <td>-0.329943</td>\n",
              "      <td>-0.823911</td>\n",
              "      <td>-0.085429</td>\n",
              "      <td>-1.340271</td>\n",
              "      <td>0.513033</td>\n",
              "      <td>-0.046869</td>\n",
              "      <td>0.020056</td>\n",
              "      <td>0.011023</td>\n",
              "      <td>19.77</td>\n",
              "      <td>0</td>\n",
              "    </tr>\n",
              "    <tr>\n",
              "      <th>25835</th>\n",
              "      <td>33785</td>\n",
              "      <td>1.245292</td>\n",
              "      <td>-0.594493</td>\n",
              "      <td>0.275982</td>\n",
              "      <td>-0.578346</td>\n",
              "      <td>-0.920599</td>\n",
              "      <td>-0.865570</td>\n",
              "      <td>-0.321689</td>\n",
              "      <td>-0.217249</td>\n",
              "      <td>-1.007295</td>\n",
              "      <td>...</td>\n",
              "      <td>0.303333</td>\n",
              "      <td>0.736260</td>\n",
              "      <td>-0.102900</td>\n",
              "      <td>0.452253</td>\n",
              "      <td>0.510125</td>\n",
              "      <td>-0.114928</td>\n",
              "      <td>0.003129</td>\n",
              "      <td>0.021850</td>\n",
              "      <td>70.75</td>\n",
              "      <td>0</td>\n",
              "    </tr>\n",
              "    <tr>\n",
              "      <th>80046</th>\n",
              "      <td>58309</td>\n",
              "      <td>-0.925531</td>\n",
              "      <td>0.876656</td>\n",
              "      <td>1.328967</td>\n",
              "      <td>-0.009920</td>\n",
              "      <td>0.051637</td>\n",
              "      <td>-0.054125</td>\n",
              "      <td>0.415637</td>\n",
              "      <td>0.147331</td>\n",
              "      <td>0.178512</td>\n",
              "      <td>...</td>\n",
              "      <td>-0.018497</td>\n",
              "      <td>0.326051</td>\n",
              "      <td>-0.151678</td>\n",
              "      <td>0.061919</td>\n",
              "      <td>-0.058481</td>\n",
              "      <td>0.361430</td>\n",
              "      <td>0.338691</td>\n",
              "      <td>0.254823</td>\n",
              "      <td>9.49</td>\n",
              "      <td>0</td>\n",
              "    </tr>\n",
              "    <tr>\n",
              "      <th>36000</th>\n",
              "      <td>38354</td>\n",
              "      <td>-3.225106</td>\n",
              "      <td>2.380609</td>\n",
              "      <td>2.169484</td>\n",
              "      <td>-1.825348</td>\n",
              "      <td>1.253584</td>\n",
              "      <td>-0.249697</td>\n",
              "      <td>3.376027</td>\n",
              "      <td>-2.763971</td>\n",
              "      <td>5.104243</td>\n",
              "      <td>...</td>\n",
              "      <td>-1.443924</td>\n",
              "      <td>-0.212638</td>\n",
              "      <td>-0.587524</td>\n",
              "      <td>0.278283</td>\n",
              "      <td>0.440575</td>\n",
              "      <td>-0.163672</td>\n",
              "      <td>-0.844172</td>\n",
              "      <td>-2.309725</td>\n",
              "      <td>15.00</td>\n",
              "      <td>0</td>\n",
              "    </tr>\n",
              "  </tbody>\n",
              "</table>\n",
              "<p>5 rows × 31 columns</p>\n",
              "</div>"
            ],
            "text/plain": [
              "         Time        V1        V2        V3        V4        V5        V6  \\\n",
              "42732   41222 -0.798318  0.274479  0.999705  0.745266  1.779616 -0.700819   \n",
              "108704  71031  1.182456  0.326228  0.294534  2.324283  0.522386  1.074643   \n",
              "25835   33785  1.245292 -0.594493  0.275982 -0.578346 -0.920599 -0.865570   \n",
              "80046   58309 -0.925531  0.876656  1.328967 -0.009920  0.051637 -0.054125   \n",
              "36000   38354 -3.225106  2.380609  2.169484 -1.825348  1.253584 -0.249697   \n",
              "\n",
              "              V7        V8        V9  ...       V21       V22       V23  \\\n",
              "42732   1.579767 -1.006390 -0.351450  ... -0.134193  0.433417  0.077362   \n",
              "108704 -0.102082  0.207097 -0.221375  ... -0.329943 -0.823911 -0.085429   \n",
              "25835  -0.321689 -0.217249 -1.007295  ...  0.303333  0.736260 -0.102900   \n",
              "80046   0.415637  0.147331  0.178512  ... -0.018497  0.326051 -0.151678   \n",
              "36000   3.376027 -2.763971  5.104243  ... -1.443924 -0.212638 -0.587524   \n",
              "\n",
              "             V24       V25       V26       V27       V28  Amount  Class  \n",
              "42732  -0.430234  0.251328 -0.306781 -0.548793 -0.521128    1.59      0  \n",
              "108704 -1.340271  0.513033 -0.046869  0.020056  0.011023   19.77      0  \n",
              "25835   0.452253  0.510125 -0.114928  0.003129  0.021850   70.75      0  \n",
              "80046   0.061919 -0.058481  0.361430  0.338691  0.254823    9.49      0  \n",
              "36000   0.278283  0.440575 -0.163672 -0.844172 -2.309725   15.00      0  \n",
              "\n",
              "[5 rows x 31 columns]"
            ]
          },
          "execution_count": 18,
          "metadata": {},
          "output_type": "execute_result"
        }
      ],
      "source": [
        "new_dataset.head()"
      ]
    },
    {
      "cell_type": "code",
      "execution_count": 19,
      "metadata": {
        "colab": {
          "base_uri": "https://localhost:8080/",
          "height": 218
        },
        "id": "n_Rjt1qDX3AQ",
        "outputId": "c2624d05-e2bf-41c5-e858-37f29314d18d"
      },
      "outputs": [
        {
          "data": {
            "text/html": [
              "<div>\n",
              "<style scoped>\n",
              "    .dataframe tbody tr th:only-of-type {\n",
              "        vertical-align: middle;\n",
              "    }\n",
              "\n",
              "    .dataframe tbody tr th {\n",
              "        vertical-align: top;\n",
              "    }\n",
              "\n",
              "    .dataframe thead th {\n",
              "        text-align: right;\n",
              "    }\n",
              "</style>\n",
              "<table border=\"1\" class=\"dataframe\">\n",
              "  <thead>\n",
              "    <tr style=\"text-align: right;\">\n",
              "      <th></th>\n",
              "      <th>Time</th>\n",
              "      <th>V1</th>\n",
              "      <th>V2</th>\n",
              "      <th>V3</th>\n",
              "      <th>V4</th>\n",
              "      <th>V5</th>\n",
              "      <th>V6</th>\n",
              "      <th>V7</th>\n",
              "      <th>V8</th>\n",
              "      <th>V9</th>\n",
              "      <th>...</th>\n",
              "      <th>V21</th>\n",
              "      <th>V22</th>\n",
              "      <th>V23</th>\n",
              "      <th>V24</th>\n",
              "      <th>V25</th>\n",
              "      <th>V26</th>\n",
              "      <th>V27</th>\n",
              "      <th>V28</th>\n",
              "      <th>Amount</th>\n",
              "      <th>Class</th>\n",
              "    </tr>\n",
              "  </thead>\n",
              "  <tbody>\n",
              "    <tr>\n",
              "      <th>118308</th>\n",
              "      <td>75033</td>\n",
              "      <td>-0.430330</td>\n",
              "      <td>0.985633</td>\n",
              "      <td>0.645789</td>\n",
              "      <td>0.317131</td>\n",
              "      <td>0.616332</td>\n",
              "      <td>-1.347462</td>\n",
              "      <td>1.078234</td>\n",
              "      <td>-0.161518</td>\n",
              "      <td>-0.492856</td>\n",
              "      <td>...</td>\n",
              "      <td>-0.016378</td>\n",
              "      <td>-0.207609</td>\n",
              "      <td>-0.164119</td>\n",
              "      <td>0.255280</td>\n",
              "      <td>0.454798</td>\n",
              "      <td>-0.505032</td>\n",
              "      <td>-0.039456</td>\n",
              "      <td>-0.006358</td>\n",
              "      <td>30.14</td>\n",
              "      <td>1</td>\n",
              "    </tr>\n",
              "    <tr>\n",
              "      <th>119714</th>\n",
              "      <td>75556</td>\n",
              "      <td>-0.734303</td>\n",
              "      <td>0.435519</td>\n",
              "      <td>-0.530866</td>\n",
              "      <td>-0.471120</td>\n",
              "      <td>0.643214</td>\n",
              "      <td>0.713832</td>\n",
              "      <td>-1.234572</td>\n",
              "      <td>-2.551412</td>\n",
              "      <td>-2.057724</td>\n",
              "      <td>...</td>\n",
              "      <td>-1.004877</td>\n",
              "      <td>1.150354</td>\n",
              "      <td>-0.152555</td>\n",
              "      <td>-1.386745</td>\n",
              "      <td>0.004716</td>\n",
              "      <td>0.219146</td>\n",
              "      <td>-0.058257</td>\n",
              "      <td>0.158048</td>\n",
              "      <td>29.95</td>\n",
              "      <td>1</td>\n",
              "    </tr>\n",
              "    <tr>\n",
              "      <th>119781</th>\n",
              "      <td>75581</td>\n",
              "      <td>-2.866364</td>\n",
              "      <td>2.346949</td>\n",
              "      <td>-4.053307</td>\n",
              "      <td>3.983359</td>\n",
              "      <td>-3.463186</td>\n",
              "      <td>-1.280953</td>\n",
              "      <td>-4.474764</td>\n",
              "      <td>1.216655</td>\n",
              "      <td>-2.309829</td>\n",
              "      <td>...</td>\n",
              "      <td>1.049732</td>\n",
              "      <td>0.475840</td>\n",
              "      <td>0.404480</td>\n",
              "      <td>0.282030</td>\n",
              "      <td>-0.506901</td>\n",
              "      <td>-0.371741</td>\n",
              "      <td>0.615257</td>\n",
              "      <td>0.803163</td>\n",
              "      <td>124.53</td>\n",
              "      <td>1</td>\n",
              "    </tr>\n",
              "    <tr>\n",
              "      <th>120505</th>\n",
              "      <td>75851</td>\n",
              "      <td>-4.793667</td>\n",
              "      <td>3.418911</td>\n",
              "      <td>-5.074445</td>\n",
              "      <td>4.035987</td>\n",
              "      <td>-3.527875</td>\n",
              "      <td>-1.923242</td>\n",
              "      <td>-5.065981</td>\n",
              "      <td>1.996885</td>\n",
              "      <td>-3.097379</td>\n",
              "      <td>...</td>\n",
              "      <td>1.168618</td>\n",
              "      <td>0.289531</td>\n",
              "      <td>-0.371888</td>\n",
              "      <td>0.144761</td>\n",
              "      <td>0.084735</td>\n",
              "      <td>-0.197431</td>\n",
              "      <td>0.328672</td>\n",
              "      <td>0.835395</td>\n",
              "      <td>99.85</td>\n",
              "      <td>1</td>\n",
              "    </tr>\n",
              "    <tr>\n",
              "      <th>120837</th>\n",
              "      <td>75978</td>\n",
              "      <td>-5.140723</td>\n",
              "      <td>3.568751</td>\n",
              "      <td>-5.896245</td>\n",
              "      <td>4.164720</td>\n",
              "      <td>-4.091193</td>\n",
              "      <td>-1.989960</td>\n",
              "      <td>-5.472436</td>\n",
              "      <td>2.422821</td>\n",
              "      <td>-2.909735</td>\n",
              "      <td>...</td>\n",
              "      <td>1.131130</td>\n",
              "      <td>0.118022</td>\n",
              "      <td>-0.332704</td>\n",
              "      <td>0.139941</td>\n",
              "      <td>0.324758</td>\n",
              "      <td>-0.180769</td>\n",
              "      <td>0.177810</td>\n",
              "      <td>0.661555</td>\n",
              "      <td>99.90</td>\n",
              "      <td>1</td>\n",
              "    </tr>\n",
              "  </tbody>\n",
              "</table>\n",
              "<p>5 rows × 31 columns</p>\n",
              "</div>"
            ],
            "text/plain": [
              "         Time        V1        V2        V3        V4        V5        V6  \\\n",
              "118308  75033 -0.430330  0.985633  0.645789  0.317131  0.616332 -1.347462   \n",
              "119714  75556 -0.734303  0.435519 -0.530866 -0.471120  0.643214  0.713832   \n",
              "119781  75581 -2.866364  2.346949 -4.053307  3.983359 -3.463186 -1.280953   \n",
              "120505  75851 -4.793667  3.418911 -5.074445  4.035987 -3.527875 -1.923242   \n",
              "120837  75978 -5.140723  3.568751 -5.896245  4.164720 -4.091193 -1.989960   \n",
              "\n",
              "              V7        V8        V9  ...       V21       V22       V23  \\\n",
              "118308  1.078234 -0.161518 -0.492856  ... -0.016378 -0.207609 -0.164119   \n",
              "119714 -1.234572 -2.551412 -2.057724  ... -1.004877  1.150354 -0.152555   \n",
              "119781 -4.474764  1.216655 -2.309829  ...  1.049732  0.475840  0.404480   \n",
              "120505 -5.065981  1.996885 -3.097379  ...  1.168618  0.289531 -0.371888   \n",
              "120837 -5.472436  2.422821 -2.909735  ...  1.131130  0.118022 -0.332704   \n",
              "\n",
              "             V24       V25       V26       V27       V28  Amount  Class  \n",
              "118308  0.255280  0.454798 -0.505032 -0.039456 -0.006358   30.14      1  \n",
              "119714 -1.386745  0.004716  0.219146 -0.058257  0.158048   29.95      1  \n",
              "119781  0.282030 -0.506901 -0.371741  0.615257  0.803163  124.53      1  \n",
              "120505  0.144761  0.084735 -0.197431  0.328672  0.835395   99.85      1  \n",
              "120837  0.139941  0.324758 -0.180769  0.177810  0.661555   99.90      1  \n",
              "\n",
              "[5 rows x 31 columns]"
            ]
          },
          "execution_count": 19,
          "metadata": {},
          "output_type": "execute_result"
        }
      ],
      "source": [
        "new_dataset.tail()"
      ]
    },
    {
      "cell_type": "code",
      "execution_count": 20,
      "metadata": {
        "colab": {
          "base_uri": "https://localhost:8080/"
        },
        "id": "bFsRcj0gX-3M",
        "outputId": "7c6c1b70-d098-4e9c-ad1f-c25f9d91a8d6"
      },
      "outputs": [
        {
          "data": {
            "text/plain": [
              "Class\n",
              "0    492\n",
              "1    249\n",
              "Name: count, dtype: int64"
            ]
          },
          "execution_count": 20,
          "metadata": {},
          "output_type": "execute_result"
        }
      ],
      "source": [
        "new_dataset['Class'].value_counts()"
      ]
    },
    {
      "cell_type": "code",
      "execution_count": 21,
      "metadata": {
        "colab": {
          "base_uri": "https://localhost:8080/",
          "height": 158
        },
        "id": "jan1xMeWYLrM",
        "outputId": "a944d4b6-b4b7-4949-a112-00ad583eab13"
      },
      "outputs": [],
      "source": [
        "new_dataset.groupby('Class').mean()\n",
        "selected_features = ['Time','V1', 'V2', 'V3', 'V4', 'V5', 'V6', 'V7', 'V8','V9','V10','Amount']"
      ]
    },
    {
      "cell_type": "markdown",
      "metadata": {
        "id": "wbe0g12oYhyK"
      },
      "source": [
        "Splitting the data into Features & Targets"
      ]
    },
    {
      "cell_type": "code",
      "execution_count": 22,
      "metadata": {
        "id": "oiC0OOyUYUoD"
      },
      "outputs": [],
      "source": [
        "X = new_dataset[selected_features]\n",
        "Y = new_dataset['Class']"
      ]
    },
    {
      "cell_type": "code",
      "execution_count": 23,
      "metadata": {
        "colab": {
          "base_uri": "https://localhost:8080/"
        },
        "id": "9u7wbWqzYyrI",
        "outputId": "0c54feb3-2962-4841-f98c-23c4fdb51b76"
      },
      "outputs": [
        {
          "name": "stdout",
          "output_type": "stream",
          "text": [
            "         Time        V1        V2        V3        V4        V5        V6  \\\n",
            "42732   41222 -0.798318  0.274479  0.999705  0.745266  1.779616 -0.700819   \n",
            "108704  71031  1.182456  0.326228  0.294534  2.324283  0.522386  1.074643   \n",
            "25835   33785  1.245292 -0.594493  0.275982 -0.578346 -0.920599 -0.865570   \n",
            "80046   58309 -0.925531  0.876656  1.328967 -0.009920  0.051637 -0.054125   \n",
            "36000   38354 -3.225106  2.380609  2.169484 -1.825348  1.253584 -0.249697   \n",
            "...       ...       ...       ...       ...       ...       ...       ...   \n",
            "118308  75033 -0.430330  0.985633  0.645789  0.317131  0.616332 -1.347462   \n",
            "119714  75556 -0.734303  0.435519 -0.530866 -0.471120  0.643214  0.713832   \n",
            "119781  75581 -2.866364  2.346949 -4.053307  3.983359 -3.463186 -1.280953   \n",
            "120505  75851 -4.793667  3.418911 -5.074445  4.035987 -3.527875 -1.923242   \n",
            "120837  75978 -5.140723  3.568751 -5.896245  4.164720 -4.091193 -1.989960   \n",
            "\n",
            "              V7        V8        V9       V10  Amount  \n",
            "42732   1.579767 -1.006390 -0.351450  0.677608    1.59  \n",
            "108704 -0.102082  0.207097 -0.221375  0.474206   19.77  \n",
            "25835  -0.321689 -0.217249 -1.007295  0.569955   70.75  \n",
            "80046   0.415637  0.147331  0.178512  0.146724    9.49  \n",
            "36000   3.376027 -2.763971  5.104243  7.598479   15.00  \n",
            "...          ...       ...       ...       ...     ...  \n",
            "118308  1.078234 -0.161518 -0.492856 -1.039638   30.14  \n",
            "119714 -1.234572 -2.551412 -2.057724  0.166831   29.95  \n",
            "119781 -4.474764  1.216655 -2.309829 -5.515507  124.53  \n",
            "120505 -5.065981  1.996885 -3.097379 -6.447202   99.85  \n",
            "120837 -5.472436  2.422821 -2.909735 -6.287803   99.90  \n",
            "\n",
            "[741 rows x 12 columns]\n"
          ]
        }
      ],
      "source": [
        "print(X)"
      ]
    },
    {
      "cell_type": "code",
      "execution_count": 24,
      "metadata": {
        "colab": {
          "base_uri": "https://localhost:8080/"
        },
        "id": "EHnRPzZvYz-F",
        "outputId": "5cd0aae8-1749-4101-a077-35cf5f05b58d"
      },
      "outputs": [
        {
          "name": "stdout",
          "output_type": "stream",
          "text": [
            "42732     0\n",
            "108704    0\n",
            "25835     0\n",
            "80046     0\n",
            "36000     0\n",
            "         ..\n",
            "118308    1\n",
            "119714    1\n",
            "119781    1\n",
            "120505    1\n",
            "120837    1\n",
            "Name: Class, Length: 741, dtype: int64\n"
          ]
        }
      ],
      "source": [
        "print(Y)"
      ]
    },
    {
      "cell_type": "markdown",
      "metadata": {
        "id": "78wEbV41Y6j3"
      },
      "source": [
        "Split the data into Training data & Testing Data"
      ]
    },
    {
      "cell_type": "code",
      "execution_count": 25,
      "metadata": {
        "id": "FrsqqwT0Y3n5"
      },
      "outputs": [],
      "source": [
        "X_train, X_test, Y_train, Y_test = train_test_split(X, Y, test_size=0.2, stratify=Y, random_state=2)"
      ]
    },
    {
      "cell_type": "code",
      "execution_count": 26,
      "metadata": {
        "colab": {
          "base_uri": "https://localhost:8080/"
        },
        "id": "FUmwXz99ZuvK",
        "outputId": "a5645b66-417f-4e66-af0f-05cd0a78e182"
      },
      "outputs": [
        {
          "name": "stdout",
          "output_type": "stream",
          "text": [
            "(741, 12) (592, 12) (149, 12)\n"
          ]
        }
      ],
      "source": [
        "print(X.shape, X_train.shape, X_test.shape)"
      ]
    },
    {
      "cell_type": "markdown",
      "metadata": {
        "id": "aowgjqbeZ7d1"
      },
      "source": [
        "Model Training"
      ]
    },
    {
      "cell_type": "markdown",
      "metadata": {
        "id": "i0NkjaxyZ96E"
      },
      "source": [
        "Logistic Regression"
      ]
    },
    {
      "cell_type": "code",
      "execution_count": 27,
      "metadata": {
        "id": "i0HHd1v8Z2Mq"
      },
      "outputs": [],
      "source": [
        "model = LogisticRegression()"
      ]
    },
    {
      "cell_type": "code",
      "execution_count": 28,
      "metadata": {
        "colab": {
          "base_uri": "https://localhost:8080/"
        },
        "id": "_rshSouvaGrv",
        "outputId": "bed2be43-222c-41ae-925c-ffac11b7cb52"
      },
      "outputs": [
        {
          "data": {
            "text/html": [
              "<style>#sk-container-id-1 {color: black;}#sk-container-id-1 pre{padding: 0;}#sk-container-id-1 div.sk-toggleable {background-color: white;}#sk-container-id-1 label.sk-toggleable__label {cursor: pointer;display: block;width: 100%;margin-bottom: 0;padding: 0.3em;box-sizing: border-box;text-align: center;}#sk-container-id-1 label.sk-toggleable__label-arrow:before {content: \"▸\";float: left;margin-right: 0.25em;color: #696969;}#sk-container-id-1 label.sk-toggleable__label-arrow:hover:before {color: black;}#sk-container-id-1 div.sk-estimator:hover label.sk-toggleable__label-arrow:before {color: black;}#sk-container-id-1 div.sk-toggleable__content {max-height: 0;max-width: 0;overflow: hidden;text-align: left;background-color: #f0f8ff;}#sk-container-id-1 div.sk-toggleable__content pre {margin: 0.2em;color: black;border-radius: 0.25em;background-color: #f0f8ff;}#sk-container-id-1 input.sk-toggleable__control:checked~div.sk-toggleable__content {max-height: 200px;max-width: 100%;overflow: auto;}#sk-container-id-1 input.sk-toggleable__control:checked~label.sk-toggleable__label-arrow:before {content: \"▾\";}#sk-container-id-1 div.sk-estimator input.sk-toggleable__control:checked~label.sk-toggleable__label {background-color: #d4ebff;}#sk-container-id-1 div.sk-label input.sk-toggleable__control:checked~label.sk-toggleable__label {background-color: #d4ebff;}#sk-container-id-1 input.sk-hidden--visually {border: 0;clip: rect(1px 1px 1px 1px);clip: rect(1px, 1px, 1px, 1px);height: 1px;margin: -1px;overflow: hidden;padding: 0;position: absolute;width: 1px;}#sk-container-id-1 div.sk-estimator {font-family: monospace;background-color: #f0f8ff;border: 1px dotted black;border-radius: 0.25em;box-sizing: border-box;margin-bottom: 0.5em;}#sk-container-id-1 div.sk-estimator:hover {background-color: #d4ebff;}#sk-container-id-1 div.sk-parallel-item::after {content: \"\";width: 100%;border-bottom: 1px solid gray;flex-grow: 1;}#sk-container-id-1 div.sk-label:hover label.sk-toggleable__label {background-color: #d4ebff;}#sk-container-id-1 div.sk-serial::before {content: \"\";position: absolute;border-left: 1px solid gray;box-sizing: border-box;top: 0;bottom: 0;left: 50%;z-index: 0;}#sk-container-id-1 div.sk-serial {display: flex;flex-direction: column;align-items: center;background-color: white;padding-right: 0.2em;padding-left: 0.2em;position: relative;}#sk-container-id-1 div.sk-item {position: relative;z-index: 1;}#sk-container-id-1 div.sk-parallel {display: flex;align-items: stretch;justify-content: center;background-color: white;position: relative;}#sk-container-id-1 div.sk-item::before, #sk-container-id-1 div.sk-parallel-item::before {content: \"\";position: absolute;border-left: 1px solid gray;box-sizing: border-box;top: 0;bottom: 0;left: 50%;z-index: -1;}#sk-container-id-1 div.sk-parallel-item {display: flex;flex-direction: column;z-index: 1;position: relative;background-color: white;}#sk-container-id-1 div.sk-parallel-item:first-child::after {align-self: flex-end;width: 50%;}#sk-container-id-1 div.sk-parallel-item:last-child::after {align-self: flex-start;width: 50%;}#sk-container-id-1 div.sk-parallel-item:only-child::after {width: 0;}#sk-container-id-1 div.sk-dashed-wrapped {border: 1px dashed gray;margin: 0 0.4em 0.5em 0.4em;box-sizing: border-box;padding-bottom: 0.4em;background-color: white;}#sk-container-id-1 div.sk-label label {font-family: monospace;font-weight: bold;display: inline-block;line-height: 1.2em;}#sk-container-id-1 div.sk-label-container {text-align: center;}#sk-container-id-1 div.sk-container {/* jupyter's `normalize.less` sets `[hidden] { display: none; }` but bootstrap.min.css set `[hidden] { display: none !important; }` so we also need the `!important` here to be able to override the default hidden behavior on the sphinx rendered scikit-learn.org. See: https://github.com/scikit-learn/scikit-learn/issues/21755 */display: inline-block !important;position: relative;}#sk-container-id-1 div.sk-text-repr-fallback {display: none;}</style><div id=\"sk-container-id-1\" class=\"sk-top-container\"><div class=\"sk-text-repr-fallback\"><pre>LogisticRegression()</pre><b>In a Jupyter environment, please rerun this cell to show the HTML representation or trust the notebook. <br />On GitHub, the HTML representation is unable to render, please try loading this page with nbviewer.org.</b></div><div class=\"sk-container\" hidden><div class=\"sk-item\"><div class=\"sk-estimator sk-toggleable\"><input class=\"sk-toggleable__control sk-hidden--visually\" id=\"sk-estimator-id-1\" type=\"checkbox\" checked><label for=\"sk-estimator-id-1\" class=\"sk-toggleable__label sk-toggleable__label-arrow\">LogisticRegression</label><div class=\"sk-toggleable__content\"><pre>LogisticRegression()</pre></div></div></div></div></div>"
            ],
            "text/plain": [
              "LogisticRegression()"
            ]
          },
          "execution_count": 28,
          "metadata": {},
          "output_type": "execute_result"
        }
      ],
      "source": [
        "# training the Logistic Regression Model with Training Data\n",
        "model.fit(X_train, Y_train)"
      ]
    },
    {
      "cell_type": "markdown",
      "metadata": {
        "id": "H9FYWyKjalvC"
      },
      "source": [
        "Model Evaluation"
      ]
    },
    {
      "cell_type": "markdown",
      "metadata": {
        "id": "O6O6kbwYaoxH"
      },
      "source": [
        "Accuracy Score"
      ]
    },
    {
      "cell_type": "code",
      "execution_count": 29,
      "metadata": {
        "id": "pC2kCJhOaage"
      },
      "outputs": [],
      "source": [
        "# accuracy on training data\n",
        "X_train_prediction = model.predict(X_train)\n",
        "training_data_accuracy = accuracy_score(X_train_prediction, Y_train)"
      ]
    },
    {
      "cell_type": "code",
      "execution_count": 30,
      "metadata": {
        "colab": {
          "base_uri": "https://localhost:8080/"
        },
        "id": "Ijq6gAevbDwm",
        "outputId": "00f7db4a-a96d-4ee8-f1ff-d9a925aabcbe"
      },
      "outputs": [
        {
          "name": "stdout",
          "output_type": "stream",
          "text": [
            "Accuracy on Training data :  0.9510135135135135\n"
          ]
        }
      ],
      "source": [
        "print('Accuracy on Training data : ', training_data_accuracy)"
      ]
    },
    {
      "cell_type": "code",
      "execution_count": 31,
      "metadata": {
        "id": "tryJUs6mbJM7"
      },
      "outputs": [],
      "source": [
        "# accuracy on test data\n",
        "X_test_prediction = model.predict(X_test)\n",
        "test_data_accuracy = accuracy_score(X_test_prediction, Y_test)"
      ]
    },
    {
      "cell_type": "code",
      "execution_count": 32,
      "metadata": {
        "colab": {
          "base_uri": "https://localhost:8080/"
        },
        "id": "lxEuN24ib3hS",
        "outputId": "b513f28a-352b-4ea1-aa4d-96a873ad6cca"
      },
      "outputs": [
        {
          "name": "stdout",
          "output_type": "stream",
          "text": [
            "Accuracy score on Test Data :  0.9060402684563759\n"
          ]
        }
      ],
      "source": [
        "print('Accuracy score on Test Data : ', test_data_accuracy)"
      ]
    },
    {
      "cell_type": "code",
      "execution_count": 33,
      "metadata": {},
      "outputs": [],
      "source": [
        "new_data = pd.DataFrame([[0,-1.359807134,-0.072781173,2.536346738,1.378155224,-0.33832077,0.462387778,0.239598554,0.098697901,0.36378697,0.090794172,149.62]])"
      ]
    },
    {
      "cell_type": "code",
      "execution_count": 34,
      "metadata": {},
      "outputs": [],
      "source": [
        "data = pd.DataFrame([[472,-3.043540624,-3.157307121,1.08846278,2.288643618,1.35980513,-1.064822523,0.325574266,-0.067793653,-0.270952836,-0.838586565,529]])"
      ]
    },
    {
      "cell_type": "code",
      "execution_count": 35,
      "metadata": {},
      "outputs": [
        {
          "name": "stderr",
          "output_type": "stream",
          "text": [
            "c:\\Users\\anish\\AppData\\Local\\Programs\\Python\\Python311\\Lib\\site-packages\\sklearn\\base.py:465: UserWarning: X does not have valid feature names, but LogisticRegression was fitted with feature names\n",
            "  warnings.warn(\n"
          ]
        }
      ],
      "source": [
        "result = model.predict(new_data)"
      ]
    },
    {
      "cell_type": "code",
      "execution_count": 36,
      "metadata": {},
      "outputs": [
        {
          "name": "stderr",
          "output_type": "stream",
          "text": [
            "c:\\Users\\anish\\AppData\\Local\\Programs\\Python\\Python311\\Lib\\site-packages\\sklearn\\base.py:465: UserWarning: X does not have valid feature names, but LogisticRegression was fitted with feature names\n",
            "  warnings.warn(\n"
          ]
        }
      ],
      "source": [
        "res = model.predict(data)"
      ]
    },
    {
      "cell_type": "code",
      "execution_count": 37,
      "metadata": {},
      "outputs": [
        {
          "name": "stdout",
          "output_type": "stream",
          "text": [
            "This is a Normal Transaction\n",
            "The result is : [0]\n"
          ]
        }
      ],
      "source": [
        "if result == 0:\n",
        "    print('This is a Normal Transaction')\n",
        "else:\n",
        "    print('Oooops This is a Fraudulent Tranbsaction')\n",
        "print('The result is :',result)"
      ]
    },
    {
      "cell_type": "code",
      "execution_count": 38,
      "metadata": {},
      "outputs": [
        {
          "name": "stdout",
          "output_type": "stream",
          "text": [
            "This is a Normal Transaction\n",
            "The result is : [0]\n"
          ]
        }
      ],
      "source": [
        "if res == 0:\n",
        "    print('This is a Normal Transaction')\n",
        "else:\n",
        "    print('Oooops This is a Fraudulent Transaction')\n",
        "print('The result is :',res)"
      ]
    }
  ],
  "metadata": {
    "colab": {
      "provenance": []
    },
    "kernelspec": {
      "display_name": "Python 3",
      "name": "python3"
    },
    "language_info": {
      "codemirror_mode": {
        "name": "ipython",
        "version": 3
      },
      "file_extension": ".py",
      "mimetype": "text/x-python",
      "name": "python",
      "nbconvert_exporter": "python",
      "pygments_lexer": "ipython3",
      "version": "3.11.5"
    }
  },
  "nbformat": 4,
  "nbformat_minor": 0
}
